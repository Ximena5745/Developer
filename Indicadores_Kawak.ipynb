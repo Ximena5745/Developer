{
  "nbformat": 4,
  "nbformat_minor": 0,
  "metadata": {
    "colab": {
      "provenance": [],
      "include_colab_link": true
    },
    "kernelspec": {
      "name": "python3",
      "display_name": "Python 3"
    },
    "language_info": {
      "name": "python"
    }
  },
  "cells": [
    {
      "cell_type": "markdown",
      "metadata": {
        "id": "view-in-github",
        "colab_type": "text"
      },
      "source": [
        "<a href=\"https://colab.research.google.com/github/Ximena5745/Developer/blob/main/Indicadores_Kawak.ipynb\" target=\"_parent\"><img src=\"https://colab.research.google.com/assets/colab-badge.svg\" alt=\"Open In Colab\"/></a>"
      ]
    },
    {
      "cell_type": "code",
      "execution_count": 1,
      "metadata": {
        "id": "9Zxx4bG325ei"
      },
      "outputs": [],
      "source": [
        "import pandas as pd\n",
        "from google.colab import files\n",
        "import ast"
      ]
    },
    {
      "cell_type": "code",
      "source": [
        "# Cargar archivo desde botón\n",
        "uploaded = files.upload()"
      ],
      "metadata": {
        "colab": {
          "base_uri": "https://localhost:8080/",
          "height": 74
        },
        "id": "cltG164oWfuL",
        "outputId": "3eb745ed-fb8d-4dc4-e8e7-86b3b1e44973"
      },
      "execution_count": 2,
      "outputs": [
        {
          "output_type": "display_data",
          "data": {
            "text/plain": [
              "<IPython.core.display.HTML object>"
            ],
            "text/html": [
              "\n",
              "     <input type=\"file\" id=\"files-535e4d74-d90f-46c4-bdb8-f2c671dc0c06\" name=\"files[]\" multiple disabled\n",
              "        style=\"border:none\" />\n",
              "     <output id=\"result-535e4d74-d90f-46c4-bdb8-f2c671dc0c06\">\n",
              "      Upload widget is only available when the cell has been executed in the\n",
              "      current browser session. Please rerun this cell to enable.\n",
              "      </output>\n",
              "      <script>// Copyright 2017 Google LLC\n",
              "//\n",
              "// Licensed under the Apache License, Version 2.0 (the \"License\");\n",
              "// you may not use this file except in compliance with the License.\n",
              "// You may obtain a copy of the License at\n",
              "//\n",
              "//      http://www.apache.org/licenses/LICENSE-2.0\n",
              "//\n",
              "// Unless required by applicable law or agreed to in writing, software\n",
              "// distributed under the License is distributed on an \"AS IS\" BASIS,\n",
              "// WITHOUT WARRANTIES OR CONDITIONS OF ANY KIND, either express or implied.\n",
              "// See the License for the specific language governing permissions and\n",
              "// limitations under the License.\n",
              "\n",
              "/**\n",
              " * @fileoverview Helpers for google.colab Python module.\n",
              " */\n",
              "(function(scope) {\n",
              "function span(text, styleAttributes = {}) {\n",
              "  const element = document.createElement('span');\n",
              "  element.textContent = text;\n",
              "  for (const key of Object.keys(styleAttributes)) {\n",
              "    element.style[key] = styleAttributes[key];\n",
              "  }\n",
              "  return element;\n",
              "}\n",
              "\n",
              "// Max number of bytes which will be uploaded at a time.\n",
              "const MAX_PAYLOAD_SIZE = 100 * 1024;\n",
              "\n",
              "function _uploadFiles(inputId, outputId) {\n",
              "  const steps = uploadFilesStep(inputId, outputId);\n",
              "  const outputElement = document.getElementById(outputId);\n",
              "  // Cache steps on the outputElement to make it available for the next call\n",
              "  // to uploadFilesContinue from Python.\n",
              "  outputElement.steps = steps;\n",
              "\n",
              "  return _uploadFilesContinue(outputId);\n",
              "}\n",
              "\n",
              "// This is roughly an async generator (not supported in the browser yet),\n",
              "// where there are multiple asynchronous steps and the Python side is going\n",
              "// to poll for completion of each step.\n",
              "// This uses a Promise to block the python side on completion of each step,\n",
              "// then passes the result of the previous step as the input to the next step.\n",
              "function _uploadFilesContinue(outputId) {\n",
              "  const outputElement = document.getElementById(outputId);\n",
              "  const steps = outputElement.steps;\n",
              "\n",
              "  const next = steps.next(outputElement.lastPromiseValue);\n",
              "  return Promise.resolve(next.value.promise).then((value) => {\n",
              "    // Cache the last promise value to make it available to the next\n",
              "    // step of the generator.\n",
              "    outputElement.lastPromiseValue = value;\n",
              "    return next.value.response;\n",
              "  });\n",
              "}\n",
              "\n",
              "/**\n",
              " * Generator function which is called between each async step of the upload\n",
              " * process.\n",
              " * @param {string} inputId Element ID of the input file picker element.\n",
              " * @param {string} outputId Element ID of the output display.\n",
              " * @return {!Iterable<!Object>} Iterable of next steps.\n",
              " */\n",
              "function* uploadFilesStep(inputId, outputId) {\n",
              "  const inputElement = document.getElementById(inputId);\n",
              "  inputElement.disabled = false;\n",
              "\n",
              "  const outputElement = document.getElementById(outputId);\n",
              "  outputElement.innerHTML = '';\n",
              "\n",
              "  const pickedPromise = new Promise((resolve) => {\n",
              "    inputElement.addEventListener('change', (e) => {\n",
              "      resolve(e.target.files);\n",
              "    });\n",
              "  });\n",
              "\n",
              "  const cancel = document.createElement('button');\n",
              "  inputElement.parentElement.appendChild(cancel);\n",
              "  cancel.textContent = 'Cancel upload';\n",
              "  const cancelPromise = new Promise((resolve) => {\n",
              "    cancel.onclick = () => {\n",
              "      resolve(null);\n",
              "    };\n",
              "  });\n",
              "\n",
              "  // Wait for the user to pick the files.\n",
              "  const files = yield {\n",
              "    promise: Promise.race([pickedPromise, cancelPromise]),\n",
              "    response: {\n",
              "      action: 'starting',\n",
              "    }\n",
              "  };\n",
              "\n",
              "  cancel.remove();\n",
              "\n",
              "  // Disable the input element since further picks are not allowed.\n",
              "  inputElement.disabled = true;\n",
              "\n",
              "  if (!files) {\n",
              "    return {\n",
              "      response: {\n",
              "        action: 'complete',\n",
              "      }\n",
              "    };\n",
              "  }\n",
              "\n",
              "  for (const file of files) {\n",
              "    const li = document.createElement('li');\n",
              "    li.append(span(file.name, {fontWeight: 'bold'}));\n",
              "    li.append(span(\n",
              "        `(${file.type || 'n/a'}) - ${file.size} bytes, ` +\n",
              "        `last modified: ${\n",
              "            file.lastModifiedDate ? file.lastModifiedDate.toLocaleDateString() :\n",
              "                                    'n/a'} - `));\n",
              "    const percent = span('0% done');\n",
              "    li.appendChild(percent);\n",
              "\n",
              "    outputElement.appendChild(li);\n",
              "\n",
              "    const fileDataPromise = new Promise((resolve) => {\n",
              "      const reader = new FileReader();\n",
              "      reader.onload = (e) => {\n",
              "        resolve(e.target.result);\n",
              "      };\n",
              "      reader.readAsArrayBuffer(file);\n",
              "    });\n",
              "    // Wait for the data to be ready.\n",
              "    let fileData = yield {\n",
              "      promise: fileDataPromise,\n",
              "      response: {\n",
              "        action: 'continue',\n",
              "      }\n",
              "    };\n",
              "\n",
              "    // Use a chunked sending to avoid message size limits. See b/62115660.\n",
              "    let position = 0;\n",
              "    do {\n",
              "      const length = Math.min(fileData.byteLength - position, MAX_PAYLOAD_SIZE);\n",
              "      const chunk = new Uint8Array(fileData, position, length);\n",
              "      position += length;\n",
              "\n",
              "      const base64 = btoa(String.fromCharCode.apply(null, chunk));\n",
              "      yield {\n",
              "        response: {\n",
              "          action: 'append',\n",
              "          file: file.name,\n",
              "          data: base64,\n",
              "        },\n",
              "      };\n",
              "\n",
              "      let percentDone = fileData.byteLength === 0 ?\n",
              "          100 :\n",
              "          Math.round((position / fileData.byteLength) * 100);\n",
              "      percent.textContent = `${percentDone}% done`;\n",
              "\n",
              "    } while (position < fileData.byteLength);\n",
              "  }\n",
              "\n",
              "  // All done.\n",
              "  yield {\n",
              "    response: {\n",
              "      action: 'complete',\n",
              "    }\n",
              "  };\n",
              "}\n",
              "\n",
              "scope.google = scope.google || {};\n",
              "scope.google.colab = scope.google.colab || {};\n",
              "scope.google.colab._files = {\n",
              "  _uploadFiles,\n",
              "  _uploadFilesContinue,\n",
              "};\n",
              "})(self);\n",
              "</script> "
            ]
          },
          "metadata": {}
        },
        {
          "output_type": "stream",
          "name": "stdout",
          "text": [
            "Saving consulta_indicadores (3).xlsx to consulta_indicadores (3) (1).xlsx\n"
          ]
        }
      ]
    },
    {
      "cell_type": "code",
      "source": [
        "# Obtener el nombre del archivo cargado\n",
        "filename = list(uploaded.keys())[0]"
      ],
      "metadata": {
        "id": "P0luFsqHWoUd"
      },
      "execution_count": 3,
      "outputs": []
    },
    {
      "cell_type": "code",
      "source": [
        "# Leer contenido del archivo Excel\n",
        "Reporte_Indicadores = pd.read_excel(filename)\n",
        "\n",
        "# Vista previa del DataFrame\n",
        "print(\"Vista previa del archivo cargado:\")\n",
        "print(Reporte_Indicadores.head())\n"
      ],
      "metadata": {
        "colab": {
          "base_uri": "https://localhost:8080/"
        },
        "id": "SsZqq7quWtC0",
        "outputId": "5b8c4e6c-a783-4d82-c938-91eb1c35bc49"
      },
      "execution_count": 4,
      "outputs": [
        {
          "output_type": "stream",
          "name": "stdout",
          "text": [
            "Vista previa del archivo cargado:\n",
            "    ID                                         nombre       clasificacion  \\\n",
            "0   77       Disponibilidad de servicios tecnológicos  Estrat&eacute;gico   \n",
            "1  121  Ejecución presupuestal de la nómina acumulada           Operativo   \n",
            "2  124         Indice de Frecuencia de accidentalidad           Operativo   \n",
            "3  125                            Indice de severidad           Operativo   \n",
            "4  128                    Ausentísmo por causa médica           Operativo   \n",
            "\n",
            "    sentido                                        proceso  \\\n",
            "0  Positivo  GESTIÓN DE LA TECNOLOGÍA E INNOVACIÓN DIGITAL   \n",
            "1  Negativo        GESTIÓN Y DESARROLLO DEL TALENTO HUMANO   \n",
            "2  Negativo     GESTIÓN DE SEGURIDAD Y SALUD EN EL TRABAJO   \n",
            "3  Negativo     GESTIÓN DE SEGURIDAD Y SALUD EN EL TRABAJO   \n",
            "4  Negativo     GESTIÓN DE SEGURIDAD Y SALUD EN EL TRABAJO   \n",
            "\n",
            "                                         descripcion  \\\n",
            "0  Relación disponibilidad servicio infraestructu...   \n",
            "1  Mide la eficiencia presupuestal de la nómina i...   \n",
            "2  Mide la cantidad de accidentes que se presenta...   \n",
            "3  Mide los días perdidos por accidente de trabaj...   \n",
            "4  mide el % de días programados de trabajo perdi...   \n",
            "\n",
            "                                responsable  estado         Tipo       fecha  \\\n",
            "0   Gerente de Tecnologia E Innovacion Dig.  Activo  Serie Unica  2023-01-31   \n",
            "1  Director de Admon Laboral y Compensacion  Activo  Serie Unica  2023-01-31   \n",
            "2                   Bussiness Partner de Th  Activo  Serie Unica  2023-01-31   \n",
            "3                   Bussiness Partner de Th  Activo  Serie Unica  2023-01-31   \n",
            "4                   Bussiness Partner de Th  Activo  Serie Unica  2023-01-31   \n",
            "\n",
            "   ...   resultado   meta  peligro  alerta  cumplimiento  exceso  \\\n",
            "0  ...   97.500000   97.0    80.00   97.00         100.0     NaN   \n",
            "1  ...  107.041049  102.0   110.00  107.00         102.0   95.00   \n",
            "2  ...    0.000000    1.6     1.95    1.62           1.6    1.59   \n",
            "3  ...    0.000000    4.7     6.50    5.60           4.7    4.60   \n",
            "4  ...    1.092858    1.0     1.40    1.20           1.0    0.90   \n",
            "\n",
            "                                           variables  series  \\\n",
            "0  [{'valor': 97.5, 'nombre': 'Promedio Disponili...     NaN   \n",
            "1  [{'valor': 5658983, 'nombre': 'Gasto real nómi...     NaN   \n",
            "2  [{'valor': 0, 'nombre': 'Numero de accidentes ...     NaN   \n",
            "3  [{'valor': 1138, 'nombre': 'Numero de trabajad...     NaN   \n",
            "4  [{'valor': 314, 'nombre': 'Numero de días de a...     NaN   \n",
            "\n",
            "                                            analisis  \\\n",
            "0  2023-04-19 12:02:08 | John Jairo Saavedra Barb...   \n",
            "1  2023-04-26 13:55:33 | Monica Avendano Duarte |...   \n",
            "2  2023-02-10 04:15:25 | Miguel Alfredo Herrera M...   \n",
            "3  2023-02-10 04:17:34 | Miguel Alfredo Herrera M...   \n",
            "4  2023-10-10 12:09:33 | Miguel Alfredo Herrera M...   \n",
            "\n",
            "                                  campos_adicionales  \n",
            "0  [{'campo': 'Objetivo Estratégico', 'respuesta'...  \n",
            "1  [{'campo': 'Objetivo Estratégico', 'respuesta'...  \n",
            "2  [{'campo': 'Objetivo Estratégico', 'respuesta'...  \n",
            "3  [{'campo': 'Objetivo Estratégico', 'respuesta'...  \n",
            "4  [{'campo': 'Objetivo Estratégico', 'respuesta'...  \n",
            "\n",
            "[5 rows x 23 columns]\n"
          ]
        }
      ]
    },
    {
      "cell_type": "code",
      "source": [
        "# Filtrar campo 'Fecha' y eliminar registros vacíos\n",
        "Reporte_Indicadores = Reporte_Indicadores.dropna(subset=['fecha'])\n",
        "\n",
        "# Reemplazar '.' por ',' en la columna 'resultado'\n",
        "if 'resultado' in Reporte_Indicadores.columns:\n",
        "    Reporte_Indicadores['resultado'] = Reporte_Indicadores['resultado'].astype(str).str.replace('.', ',')\n",
        "\n",
        "# Ajustar el campo 'clasificacion' reemplazando 'Estrat&eacute;gico' por 'Estratégico'\n",
        "if 'clasificacion' in Reporte_Indicadores.columns:\n",
        "    Reporte_Indicadores['clasificacion'] = Reporte_Indicadores['clasificacion'].replace('Estrat&eacute;gico', 'Estratégico')\n"
      ],
      "metadata": {
        "colab": {
          "base_uri": "https://localhost:8080/"
        },
        "id": "lP2guBOuXvBA",
        "outputId": "cce33362-d50b-4eb2-979b-e69ba75f55af"
      },
      "execution_count": 5,
      "outputs": [
        {
          "output_type": "stream",
          "name": "stderr",
          "text": [
            "<ipython-input-5-4c281c8b86ad>:6: SettingWithCopyWarning: \n",
            "A value is trying to be set on a copy of a slice from a DataFrame.\n",
            "Try using .loc[row_indexer,col_indexer] = value instead\n",
            "\n",
            "See the caveats in the documentation: https://pandas.pydata.org/pandas-docs/stable/user_guide/indexing.html#returning-a-view-versus-a-copy\n",
            "  Reporte_Indicadores['resultado'] = Reporte_Indicadores['resultado'].astype(str).str.replace('.', ',')\n",
            "<ipython-input-5-4c281c8b86ad>:10: SettingWithCopyWarning: \n",
            "A value is trying to be set on a copy of a slice from a DataFrame.\n",
            "Try using .loc[row_indexer,col_indexer] = value instead\n",
            "\n",
            "See the caveats in the documentation: https://pandas.pydata.org/pandas-docs/stable/user_guide/indexing.html#returning-a-view-versus-a-copy\n",
            "  Reporte_Indicadores['clasificacion'] = Reporte_Indicadores['clasificacion'].replace('Estrat&eacute;gico', 'Estratégico')\n"
          ]
        }
      ]
    },
    {
      "cell_type": "code",
      "source": [
        "# Filtrar registros como 'Serie Unica'\n",
        "Serie_Unica = Reporte_Indicadores[Reporte_Indicadores['Tipo'] == 'Serie Unica']\n",
        "\n",
        "# Filtrar registros como 'Multiserie'\n",
        "Multiserie = Reporte_Indicadores[Reporte_Indicadores['Tipo'] == 'Multiserie']"
      ],
      "metadata": {
        "id": "_3PzF7Nalzdm"
      },
      "execution_count": 6,
      "outputs": []
    },
    {
      "cell_type": "code",
      "source": [
        "# Dividir la columna 'series' si existe\n",
        "if 'series' in Multiserie.columns:\n",
        "    def expand_json(row):\n",
        "        try:\n",
        "            series = ast.literal_eval(row)\n",
        "            if isinstance(series, list):\n",
        "                data = {}\n",
        "                for i, item in enumerate(series):\n",
        "                    data[f'meta_{i+1}'] = item.get('meta', '')\n",
        "                    data[f'nombre_{i+1}'] = item.get('nombre', '')\n",
        "                    data[f'resultado_{i+1}'] = item.get('resultado', '')\n",
        "                    for j, var in enumerate(item.get('variables', [])):\n",
        "                        data[f'variable_{i+1}_{j+1}'] = var.get('valor', '')\n",
        "                        data[f'nombre_variable_{i+1}_{j+1}'] = var.get('nombre', '')\n",
        "                        data[f'simbolo_variable_{i+1}_{j+1}'] = var.get('simbolo', '')\n",
        "                return pd.Series(data)\n",
        "        except (ValueError, SyntaxError):\n",
        "            return pd.Series()\n",
        "\n",
        "    expanded_columns = Multiserie['series'].apply(expand_json)\n",
        "    Multiserie = pd.concat([Multiserie, expanded_columns], axis=1)\n"
      ],
      "metadata": {
        "id": "p5G_T0t5X8Iv"
      },
      "execution_count": 7,
      "outputs": []
    },
    {
      "cell_type": "code",
      "source": [
        "# Consolidar las dos bases\n",
        "Consolidado = pd.concat([Serie_Unica, Multiserie], ignore_index=True)\n",
        "\n",
        "# Crear la columna 'llave' concatenando 'ID' y 'Fecha' unidos por '-'\n",
        "if 'ID' in Consolidado.columns and 'fecha' in Consolidado.columns:\n",
        "    Consolidado['llave'] = Consolidado['ID'].astype(str) + '-' + Consolidado['fecha'].astype(str)\n",
        "    Consolidado.insert(0, 'llave', Consolidado.pop('llave'))"
      ],
      "metadata": {
        "colab": {
          "base_uri": "https://localhost:8080/"
        },
        "id": "x2hSa3WZYpj6",
        "outputId": "ae3be15c-56a3-4a5b-c322-ad6c08fccf2e"
      },
      "execution_count": 10,
      "outputs": [
        {
          "output_type": "stream",
          "name": "stderr",
          "text": [
            "<ipython-input-10-837d1cb38133>:6: PerformanceWarning: DataFrame is highly fragmented.  This is usually the result of calling `frame.insert` many times, which has poor performance.  Consider joining all columns at once using pd.concat(axis=1) instead. To get a de-fragmented frame, use `newframe = frame.copy()`\n",
            "  Consolidado['llave'] = Consolidado['ID'].astype(str) + '-' + Consolidado['fecha'].astype(str)\n",
            "<ipython-input-10-837d1cb38133>:7: PerformanceWarning: DataFrame is highly fragmented.  This is usually the result of calling `frame.insert` many times, which has poor performance.  Consider joining all columns at once using pd.concat(axis=1) instead. To get a de-fragmented frame, use `newframe = frame.copy()`\n",
            "  Consolidado.insert(0, 'llave', Consolidado.pop('llave'))\n"
          ]
        }
      ]
    },
    {
      "cell_type": "code",
      "source": [
        "# Guardar los nuevos DataFrames en archivos Excel separados\n",
        "Serie_Unica.to_excel('Serie_Unica.xlsx', index=False)\n",
        "Multiserie.to_excel('Multiserie.xlsx', index=False)\n",
        "Consolidado.to_excel('Consolidado.xlsx', index=False)\n",
        "\n",
        "print(\"Nuevo archivo guardado: Reporte_Indicadores_Filtrado.xlsx\")\n",
        "print(\"Archivo guardado: Serie_Unica.xlsx\")\n",
        "print(\"Archivo guardado: Multiserie.xlsx\")\n",
        "print(\"Archivo guardado: Consolidado.xlsx\")"
      ],
      "metadata": {
        "id": "WNSEe5SXmRQf",
        "outputId": "ac6025c8-9b24-4e5e-b48f-f9052218fb4d",
        "colab": {
          "base_uri": "https://localhost:8080/"
        }
      },
      "execution_count": 11,
      "outputs": [
        {
          "output_type": "stream",
          "name": "stdout",
          "text": [
            "Nuevo archivo guardado: Reporte_Indicadores_Filtrado.xlsx\n",
            "Archivo guardado: Serie_Unica.xlsx\n",
            "Archivo guardado: Multiserie.xlsx\n",
            "Archivo guardado: Consolidado.xlsx\n"
          ]
        }
      ]
    }
  ]
}