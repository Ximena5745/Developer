{
  "nbformat": 4,
  "nbformat_minor": 0,
  "metadata": {
    "colab": {
      "provenance": [],
      "include_colab_link": true
    },
    "kernelspec": {
      "name": "python3",
      "display_name": "Python 3"
    },
    "language_info": {
      "name": "python"
    }
  },
  "cells": [
    {
      "cell_type": "markdown",
      "metadata": {
        "id": "view-in-github",
        "colab_type": "text"
      },
      "source": [
        "<a href=\"https://colab.research.google.com/github/Ximena5745/Developer/blob/main/Indicadores_Kawak.ipynb\" target=\"_parent\"><img src=\"https://colab.research.google.com/assets/colab-badge.svg\" alt=\"Open In Colab\"/></a>"
      ]
    },
    {
      "cell_type": "code",
      "execution_count": 1,
      "metadata": {
        "id": "9Zxx4bG325ei"
      },
      "outputs": [],
      "source": [
        "import pandas as pd\n",
        "from google.colab import files"
      ]
    },
    {
      "cell_type": "code",
      "source": [
        "# Cargar archivo desde botón\n",
        "uploaded = files.upload()"
      ],
      "metadata": {
        "colab": {
          "base_uri": "https://localhost:8080/",
          "height": 74
        },
        "id": "cltG164oWfuL",
        "outputId": "bf59a8db-ce59-4d48-c145-23f38cd40eba"
      },
      "execution_count": 2,
      "outputs": [
        {
          "output_type": "display_data",
          "data": {
            "text/plain": [
              "<IPython.core.display.HTML object>"
            ],
            "text/html": [
              "\n",
              "     <input type=\"file\" id=\"files-6fafef91-b4bf-4ea3-ba23-a5c2de090788\" name=\"files[]\" multiple disabled\n",
              "        style=\"border:none\" />\n",
              "     <output id=\"result-6fafef91-b4bf-4ea3-ba23-a5c2de090788\">\n",
              "      Upload widget is only available when the cell has been executed in the\n",
              "      current browser session. Please rerun this cell to enable.\n",
              "      </output>\n",
              "      <script>// Copyright 2017 Google LLC\n",
              "//\n",
              "// Licensed under the Apache License, Version 2.0 (the \"License\");\n",
              "// you may not use this file except in compliance with the License.\n",
              "// You may obtain a copy of the License at\n",
              "//\n",
              "//      http://www.apache.org/licenses/LICENSE-2.0\n",
              "//\n",
              "// Unless required by applicable law or agreed to in writing, software\n",
              "// distributed under the License is distributed on an \"AS IS\" BASIS,\n",
              "// WITHOUT WARRANTIES OR CONDITIONS OF ANY KIND, either express or implied.\n",
              "// See the License for the specific language governing permissions and\n",
              "// limitations under the License.\n",
              "\n",
              "/**\n",
              " * @fileoverview Helpers for google.colab Python module.\n",
              " */\n",
              "(function(scope) {\n",
              "function span(text, styleAttributes = {}) {\n",
              "  const element = document.createElement('span');\n",
              "  element.textContent = text;\n",
              "  for (const key of Object.keys(styleAttributes)) {\n",
              "    element.style[key] = styleAttributes[key];\n",
              "  }\n",
              "  return element;\n",
              "}\n",
              "\n",
              "// Max number of bytes which will be uploaded at a time.\n",
              "const MAX_PAYLOAD_SIZE = 100 * 1024;\n",
              "\n",
              "function _uploadFiles(inputId, outputId) {\n",
              "  const steps = uploadFilesStep(inputId, outputId);\n",
              "  const outputElement = document.getElementById(outputId);\n",
              "  // Cache steps on the outputElement to make it available for the next call\n",
              "  // to uploadFilesContinue from Python.\n",
              "  outputElement.steps = steps;\n",
              "\n",
              "  return _uploadFilesContinue(outputId);\n",
              "}\n",
              "\n",
              "// This is roughly an async generator (not supported in the browser yet),\n",
              "// where there are multiple asynchronous steps and the Python side is going\n",
              "// to poll for completion of each step.\n",
              "// This uses a Promise to block the python side on completion of each step,\n",
              "// then passes the result of the previous step as the input to the next step.\n",
              "function _uploadFilesContinue(outputId) {\n",
              "  const outputElement = document.getElementById(outputId);\n",
              "  const steps = outputElement.steps;\n",
              "\n",
              "  const next = steps.next(outputElement.lastPromiseValue);\n",
              "  return Promise.resolve(next.value.promise).then((value) => {\n",
              "    // Cache the last promise value to make it available to the next\n",
              "    // step of the generator.\n",
              "    outputElement.lastPromiseValue = value;\n",
              "    return next.value.response;\n",
              "  });\n",
              "}\n",
              "\n",
              "/**\n",
              " * Generator function which is called between each async step of the upload\n",
              " * process.\n",
              " * @param {string} inputId Element ID of the input file picker element.\n",
              " * @param {string} outputId Element ID of the output display.\n",
              " * @return {!Iterable<!Object>} Iterable of next steps.\n",
              " */\n",
              "function* uploadFilesStep(inputId, outputId) {\n",
              "  const inputElement = document.getElementById(inputId);\n",
              "  inputElement.disabled = false;\n",
              "\n",
              "  const outputElement = document.getElementById(outputId);\n",
              "  outputElement.innerHTML = '';\n",
              "\n",
              "  const pickedPromise = new Promise((resolve) => {\n",
              "    inputElement.addEventListener('change', (e) => {\n",
              "      resolve(e.target.files);\n",
              "    });\n",
              "  });\n",
              "\n",
              "  const cancel = document.createElement('button');\n",
              "  inputElement.parentElement.appendChild(cancel);\n",
              "  cancel.textContent = 'Cancel upload';\n",
              "  const cancelPromise = new Promise((resolve) => {\n",
              "    cancel.onclick = () => {\n",
              "      resolve(null);\n",
              "    };\n",
              "  });\n",
              "\n",
              "  // Wait for the user to pick the files.\n",
              "  const files = yield {\n",
              "    promise: Promise.race([pickedPromise, cancelPromise]),\n",
              "    response: {\n",
              "      action: 'starting',\n",
              "    }\n",
              "  };\n",
              "\n",
              "  cancel.remove();\n",
              "\n",
              "  // Disable the input element since further picks are not allowed.\n",
              "  inputElement.disabled = true;\n",
              "\n",
              "  if (!files) {\n",
              "    return {\n",
              "      response: {\n",
              "        action: 'complete',\n",
              "      }\n",
              "    };\n",
              "  }\n",
              "\n",
              "  for (const file of files) {\n",
              "    const li = document.createElement('li');\n",
              "    li.append(span(file.name, {fontWeight: 'bold'}));\n",
              "    li.append(span(\n",
              "        `(${file.type || 'n/a'}) - ${file.size} bytes, ` +\n",
              "        `last modified: ${\n",
              "            file.lastModifiedDate ? file.lastModifiedDate.toLocaleDateString() :\n",
              "                                    'n/a'} - `));\n",
              "    const percent = span('0% done');\n",
              "    li.appendChild(percent);\n",
              "\n",
              "    outputElement.appendChild(li);\n",
              "\n",
              "    const fileDataPromise = new Promise((resolve) => {\n",
              "      const reader = new FileReader();\n",
              "      reader.onload = (e) => {\n",
              "        resolve(e.target.result);\n",
              "      };\n",
              "      reader.readAsArrayBuffer(file);\n",
              "    });\n",
              "    // Wait for the data to be ready.\n",
              "    let fileData = yield {\n",
              "      promise: fileDataPromise,\n",
              "      response: {\n",
              "        action: 'continue',\n",
              "      }\n",
              "    };\n",
              "\n",
              "    // Use a chunked sending to avoid message size limits. See b/62115660.\n",
              "    let position = 0;\n",
              "    do {\n",
              "      const length = Math.min(fileData.byteLength - position, MAX_PAYLOAD_SIZE);\n",
              "      const chunk = new Uint8Array(fileData, position, length);\n",
              "      position += length;\n",
              "\n",
              "      const base64 = btoa(String.fromCharCode.apply(null, chunk));\n",
              "      yield {\n",
              "        response: {\n",
              "          action: 'append',\n",
              "          file: file.name,\n",
              "          data: base64,\n",
              "        },\n",
              "      };\n",
              "\n",
              "      let percentDone = fileData.byteLength === 0 ?\n",
              "          100 :\n",
              "          Math.round((position / fileData.byteLength) * 100);\n",
              "      percent.textContent = `${percentDone}% done`;\n",
              "\n",
              "    } while (position < fileData.byteLength);\n",
              "  }\n",
              "\n",
              "  // All done.\n",
              "  yield {\n",
              "    response: {\n",
              "      action: 'complete',\n",
              "    }\n",
              "  };\n",
              "}\n",
              "\n",
              "scope.google = scope.google || {};\n",
              "scope.google.colab = scope.google.colab || {};\n",
              "scope.google.colab._files = {\n",
              "  _uploadFiles,\n",
              "  _uploadFilesContinue,\n",
              "};\n",
              "})(self);\n",
              "</script> "
            ]
          },
          "metadata": {}
        },
        {
          "output_type": "stream",
          "name": "stdout",
          "text": [
            "Saving consulta_indicadores (3).xlsx to consulta_indicadores (3).xlsx\n"
          ]
        }
      ]
    },
    {
      "cell_type": "code",
      "source": [
        "# Obtener el nombre del archivo cargado\n",
        "filename = list(uploaded.keys())[0]"
      ],
      "metadata": {
        "id": "P0luFsqHWoUd"
      },
      "execution_count": 3,
      "outputs": []
    },
    {
      "cell_type": "code",
      "source": [
        "# Obtener el nombre del archivo cargado\n",
        "filename = list(uploaded.keys())[0]\n",
        "\n",
        "# Leer contenido del archivo Excel\n",
        "Reporte_Indicadores = pd.read_excel(filename)\n",
        "\n",
        "# Vista previa del DataFrame\n",
        "print(\"Vista previa del archivo cargado:\")\n",
        "print(Reporte_Indicadores.head())\n"
      ],
      "metadata": {
        "colab": {
          "base_uri": "https://localhost:8080/"
        },
        "id": "SsZqq7quWtC0",
        "outputId": "829e3574-5bed-4b82-bf0e-e46088255e37"
      },
      "execution_count": 8,
      "outputs": [
        {
          "output_type": "stream",
          "name": "stdout",
          "text": [
            "Vista previa del archivo cargado:\n",
            "    ID                                         nombre       clasificacion  \\\n",
            "0   77       Disponibilidad de servicios tecnológicos  Estrat&eacute;gico   \n",
            "1  121  Ejecución presupuestal de la nómina acumulada           Operativo   \n",
            "2  124         Indice de Frecuencia de accidentalidad           Operativo   \n",
            "3  125                            Indice de severidad           Operativo   \n",
            "4  128                    Ausentísmo por causa médica           Operativo   \n",
            "\n",
            "    sentido                                        proceso  \\\n",
            "0  Positivo  GESTIÓN DE LA TECNOLOGÍA E INNOVACIÓN DIGITAL   \n",
            "1  Negativo        GESTIÓN Y DESARROLLO DEL TALENTO HUMANO   \n",
            "2  Negativo     GESTIÓN DE SEGURIDAD Y SALUD EN EL TRABAJO   \n",
            "3  Negativo     GESTIÓN DE SEGURIDAD Y SALUD EN EL TRABAJO   \n",
            "4  Negativo     GESTIÓN DE SEGURIDAD Y SALUD EN EL TRABAJO   \n",
            "\n",
            "                                         descripcion  \\\n",
            "0  Relación disponibilidad servicio infraestructu...   \n",
            "1  Mide la eficiencia presupuestal de la nómina i...   \n",
            "2  Mide la cantidad de accidentes que se presenta...   \n",
            "3  Mide los días perdidos por accidente de trabaj...   \n",
            "4  mide el % de días programados de trabajo perdi...   \n",
            "\n",
            "                                responsable  estado         Tipo       fecha  \\\n",
            "0   Gerente de Tecnologia E Innovacion Dig.  Activo  Serie Unica  2023-01-31   \n",
            "1  Director de Admon Laboral y Compensacion  Activo  Serie Unica  2023-01-31   \n",
            "2                   Bussiness Partner de Th  Activo  Serie Unica  2023-01-31   \n",
            "3                   Bussiness Partner de Th  Activo  Serie Unica  2023-01-31   \n",
            "4                   Bussiness Partner de Th  Activo  Serie Unica  2023-01-31   \n",
            "\n",
            "   ...   resultado   meta  peligro  alerta  cumplimiento  exceso  \\\n",
            "0  ...   97.500000   97.0    80.00   97.00         100.0     NaN   \n",
            "1  ...  107.041049  102.0   110.00  107.00         102.0   95.00   \n",
            "2  ...    0.000000    1.6     1.95    1.62           1.6    1.59   \n",
            "3  ...    0.000000    4.7     6.50    5.60           4.7    4.60   \n",
            "4  ...    1.092858    1.0     1.40    1.20           1.0    0.90   \n",
            "\n",
            "                                           variables  series  \\\n",
            "0  [{'valor': 97.5, 'nombre': 'Promedio Disponili...     NaN   \n",
            "1  [{'valor': 5658983, 'nombre': 'Gasto real nómi...     NaN   \n",
            "2  [{'valor': 0, 'nombre': 'Numero de accidentes ...     NaN   \n",
            "3  [{'valor': 1138, 'nombre': 'Numero de trabajad...     NaN   \n",
            "4  [{'valor': 314, 'nombre': 'Numero de días de a...     NaN   \n",
            "\n",
            "                                            analisis  \\\n",
            "0  2023-04-19 12:02:08 | John Jairo Saavedra Barb...   \n",
            "1  2023-04-26 13:55:33 | Monica Avendano Duarte |...   \n",
            "2  2023-02-10 04:15:25 | Miguel Alfredo Herrera M...   \n",
            "3  2023-02-10 04:17:34 | Miguel Alfredo Herrera M...   \n",
            "4  2023-10-10 12:09:33 | Miguel Alfredo Herrera M...   \n",
            "\n",
            "                                  campos_adicionales  \n",
            "0  [{'campo': 'Objetivo Estratégico', 'respuesta'...  \n",
            "1  [{'campo': 'Objetivo Estratégico', 'respuesta'...  \n",
            "2  [{'campo': 'Objetivo Estratégico', 'respuesta'...  \n",
            "3  [{'campo': 'Objetivo Estratégico', 'respuesta'...  \n",
            "4  [{'campo': 'Objetivo Estratégico', 'respuesta'...  \n",
            "\n",
            "[5 rows x 23 columns]\n"
          ]
        }
      ]
    },
    {
      "cell_type": "code",
      "source": [
        "# Filtrar campo 'Fecha' y eliminar registros vacíos\n",
        "Reporte_Indicadores = Reporte_Indicadores.dropna(subset=['fecha'])"
      ],
      "metadata": {
        "id": "lP2guBOuXvBA"
      },
      "execution_count": 12,
      "outputs": []
    },
    {
      "cell_type": "code",
      "source": [
        "# Reemplazar '.' por ',' en la columna 'resultado'\n",
        "if 'resultado' in Reporte_Indicadores.columns:\n",
        "    Reporte_Indicadores['resultado'] = Reporte_Indicadores['resultado'].astype(str).str.replace('.', ',')"
      ],
      "metadata": {
        "id": "iS0SLlrhYhbs"
      },
      "execution_count": 13,
      "outputs": []
    },
    {
      "cell_type": "code",
      "source": [
        "# Filtrar registros como 'Serie Unica'\n",
        "Serie_Unica = Reporte_Indicadores[Reporte_Indicadores['Tipo'] == 'Serie Unica']\n",
        "\n",
        "# Filtrar registros como 'Multiserie'\n",
        "Multiserie = Reporte_Indicadores[Reporte_Indicadores['Tipo'] == 'Multiserie']\n",
        "\n",
        "# Guardar los nuevos DataFrames en archivos Excel separados\n",
        "Serie_Unica.to_excel('Serie_Unica.xlsx', index=False)\n",
        "Multiserie.to_excel('Multiserie.xlsx', index=False)\n",
        "\n",
        "print(\"Nuevo archivo guardado: Reporte_Indicadores_Filtrado.xlsx\")\n",
        "print(\"Archivo guardado: Serie_Unica.xlsx\")\n",
        "print(\"Archivo guardado: Multiserie.xlsx\")\n"
      ],
      "metadata": {
        "colab": {
          "base_uri": "https://localhost:8080/"
        },
        "id": "p5G_T0t5X8Iv",
        "outputId": "75ee8447-b2c4-4ac4-97dc-d720cd9c9a31"
      },
      "execution_count": 16,
      "outputs": [
        {
          "output_type": "stream",
          "name": "stdout",
          "text": [
            "Nuevo archivo guardado: Reporte_Indicadores_Filtrado.xlsx\n",
            "Archivo guardado: Serie_Unica.xlsx\n",
            "Archivo guardado: Multiserie.xlsx\n"
          ]
        }
      ]
    },
    {
      "cell_type": "code",
      "source": [
        "print(Reporte_Indicadores.head())\n"
      ],
      "metadata": {
        "colab": {
          "base_uri": "https://localhost:8080/"
        },
        "id": "x2hSa3WZYpj6",
        "outputId": "c476787f-8abb-4de2-da68-0c29b58d2582"
      },
      "execution_count": 15,
      "outputs": [
        {
          "output_type": "stream",
          "name": "stdout",
          "text": [
            "    ID                                         nombre       clasificacion  \\\n",
            "0   77       Disponibilidad de servicios tecnológicos  Estrat&eacute;gico   \n",
            "1  121  Ejecución presupuestal de la nómina acumulada           Operativo   \n",
            "2  124         Indice de Frecuencia de accidentalidad           Operativo   \n",
            "3  125                            Indice de severidad           Operativo   \n",
            "4  128                    Ausentísmo por causa médica           Operativo   \n",
            "\n",
            "    sentido                                        proceso  \\\n",
            "0  Positivo  GESTIÓN DE LA TECNOLOGÍA E INNOVACIÓN DIGITAL   \n",
            "1  Negativo        GESTIÓN Y DESARROLLO DEL TALENTO HUMANO   \n",
            "2  Negativo     GESTIÓN DE SEGURIDAD Y SALUD EN EL TRABAJO   \n",
            "3  Negativo     GESTIÓN DE SEGURIDAD Y SALUD EN EL TRABAJO   \n",
            "4  Negativo     GESTIÓN DE SEGURIDAD Y SALUD EN EL TRABAJO   \n",
            "\n",
            "                                         descripcion  \\\n",
            "0  Relación disponibilidad servicio infraestructu...   \n",
            "1  Mide la eficiencia presupuestal de la nómina i...   \n",
            "2  Mide la cantidad de accidentes que se presenta...   \n",
            "3  Mide los días perdidos por accidente de trabaj...   \n",
            "4  mide el % de días programados de trabajo perdi...   \n",
            "\n",
            "                                responsable  estado         Tipo       fecha  \\\n",
            "0   Gerente de Tecnologia E Innovacion Dig.  Activo  Serie Unica  2023-01-31   \n",
            "1  Director de Admon Laboral y Compensacion  Activo  Serie Unica  2023-01-31   \n",
            "2                   Bussiness Partner de Th  Activo  Serie Unica  2023-01-31   \n",
            "3                   Bussiness Partner de Th  Activo  Serie Unica  2023-01-31   \n",
            "4                   Bussiness Partner de Th  Activo  Serie Unica  2023-01-31   \n",
            "\n",
            "   ...        resultado   meta  peligro  alerta  cumplimiento  exceso  \\\n",
            "0  ...             97,5   97.0    80.00   97.00         100.0     NaN   \n",
            "1  ...  107,04104854011  102.0   110.00  107.00         102.0   95.00   \n",
            "2  ...              0,0    1.6     1.95    1.62           1.6    1.59   \n",
            "3  ...              0,0    4.7     6.50    5.60           4.7    4.60   \n",
            "4  ...  1,0928581372686    1.0     1.40    1.20           1.0    0.90   \n",
            "\n",
            "                                           variables  series  \\\n",
            "0  [{'valor': 97.5, 'nombre': 'Promedio Disponili...     NaN   \n",
            "1  [{'valor': 5658983, 'nombre': 'Gasto real nómi...     NaN   \n",
            "2  [{'valor': 0, 'nombre': 'Numero de accidentes ...     NaN   \n",
            "3  [{'valor': 1138, 'nombre': 'Numero de trabajad...     NaN   \n",
            "4  [{'valor': 314, 'nombre': 'Numero de días de a...     NaN   \n",
            "\n",
            "                                            analisis  \\\n",
            "0  2023-04-19 12:02:08 | John Jairo Saavedra Barb...   \n",
            "1  2023-04-26 13:55:33 | Monica Avendano Duarte |...   \n",
            "2  2023-02-10 04:15:25 | Miguel Alfredo Herrera M...   \n",
            "3  2023-02-10 04:17:34 | Miguel Alfredo Herrera M...   \n",
            "4  2023-10-10 12:09:33 | Miguel Alfredo Herrera M...   \n",
            "\n",
            "                                  campos_adicionales  \n",
            "0  [{'campo': 'Objetivo Estratégico', 'respuesta'...  \n",
            "1  [{'campo': 'Objetivo Estratégico', 'respuesta'...  \n",
            "2  [{'campo': 'Objetivo Estratégico', 'respuesta'...  \n",
            "3  [{'campo': 'Objetivo Estratégico', 'respuesta'...  \n",
            "4  [{'campo': 'Objetivo Estratégico', 'respuesta'...  \n",
            "\n",
            "[5 rows x 23 columns]\n"
          ]
        }
      ]
    }
  ]
}